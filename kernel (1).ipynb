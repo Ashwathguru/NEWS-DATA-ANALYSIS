{
 "cells": [
  {
   "cell_type": "code",
   "execution_count": 1,
   "metadata": {
    "_cell_guid": "b1076dfc-b9ad-4769-8c92-a6c4dae69d19",
    "_uuid": "8f2839f25d086af736a60e9eeb907d3b93b6e0e5"
   },
   "outputs": [
    {
     "name": "stdout",
     "output_type": "stream",
     "text": [
      "['News_Category_Dataset_v2.json']\n"
     ]
    },
    {
     "data": {
      "text/html": [
       "<div>\n",
       "<style scoped>\n",
       "    .dataframe tbody tr th:only-of-type {\n",
       "        vertical-align: middle;\n",
       "    }\n",
       "\n",
       "    .dataframe tbody tr th {\n",
       "        vertical-align: top;\n",
       "    }\n",
       "\n",
       "    .dataframe thead th {\n",
       "        text-align: right;\n",
       "    }\n",
       "</style>\n",
       "<table border=\"1\" class=\"dataframe\">\n",
       "  <thead>\n",
       "    <tr style=\"text-align: right;\">\n",
       "      <th></th>\n",
       "      <th>authors</th>\n",
       "      <th>category</th>\n",
       "      <th>date</th>\n",
       "      <th>headline</th>\n",
       "      <th>link</th>\n",
       "      <th>short_description</th>\n",
       "    </tr>\n",
       "  </thead>\n",
       "  <tbody>\n",
       "    <tr>\n",
       "      <th>0</th>\n",
       "      <td>Melissa Jeltsen</td>\n",
       "      <td>CRIME</td>\n",
       "      <td>2018-05-26</td>\n",
       "      <td>There Were 2 Mass Shootings In Texas Last Week...</td>\n",
       "      <td>https://www.huffingtonpost.com/entry/texas-ama...</td>\n",
       "      <td>She left her husband. He killed their children...</td>\n",
       "    </tr>\n",
       "    <tr>\n",
       "      <th>1</th>\n",
       "      <td>Andy McDonald</td>\n",
       "      <td>ENTERTAINMENT</td>\n",
       "      <td>2018-05-26</td>\n",
       "      <td>Will Smith Joins Diplo And Nicky Jam For The 2...</td>\n",
       "      <td>https://www.huffingtonpost.com/entry/will-smit...</td>\n",
       "      <td>Of course it has a song.</td>\n",
       "    </tr>\n",
       "    <tr>\n",
       "      <th>2</th>\n",
       "      <td>Ron Dicker</td>\n",
       "      <td>ENTERTAINMENT</td>\n",
       "      <td>2018-05-26</td>\n",
       "      <td>Hugh Grant Marries For The First Time At Age 57</td>\n",
       "      <td>https://www.huffingtonpost.com/entry/hugh-gran...</td>\n",
       "      <td>The actor and his longtime girlfriend Anna Ebe...</td>\n",
       "    </tr>\n",
       "    <tr>\n",
       "      <th>3</th>\n",
       "      <td>Ron Dicker</td>\n",
       "      <td>ENTERTAINMENT</td>\n",
       "      <td>2018-05-26</td>\n",
       "      <td>Jim Carrey Blasts 'Castrato' Adam Schiff And D...</td>\n",
       "      <td>https://www.huffingtonpost.com/entry/jim-carre...</td>\n",
       "      <td>The actor gives Dems an ass-kicking for not fi...</td>\n",
       "    </tr>\n",
       "    <tr>\n",
       "      <th>4</th>\n",
       "      <td>Ron Dicker</td>\n",
       "      <td>ENTERTAINMENT</td>\n",
       "      <td>2018-05-26</td>\n",
       "      <td>Julianna Margulies Uses Donald Trump Poop Bags...</td>\n",
       "      <td>https://www.huffingtonpost.com/entry/julianna-...</td>\n",
       "      <td>The \"Dietland\" actress said using the bags is ...</td>\n",
       "    </tr>\n",
       "  </tbody>\n",
       "</table>\n",
       "</div>"
      ],
      "text/plain": [
       "           authors                        ...                                                          short_description\n",
       "0  Melissa Jeltsen                        ...                          She left her husband. He killed their children...\n",
       "1    Andy McDonald                        ...                                                   Of course it has a song.\n",
       "2       Ron Dicker                        ...                          The actor and his longtime girlfriend Anna Ebe...\n",
       "3       Ron Dicker                        ...                          The actor gives Dems an ass-kicking for not fi...\n",
       "4       Ron Dicker                        ...                          The \"Dietland\" actress said using the bags is ...\n",
       "\n",
       "[5 rows x 6 columns]"
      ]
     },
     "execution_count": 1,
     "metadata": {},
     "output_type": "execute_result"
    }
   ],
   "source": [
    "# This Python 3 environment comes with many helpful analytics libraries installed\n",
    "# It is defined by the kaggle/python docker image: https://github.com/kaggle/docker-python\n",
    "# For example, here's several helpful packages to load in \n",
    "\n",
    "import numpy as np # linear algebra\n",
    "import pandas as pd # data processing, CSV file I/O (e.g. pd.read_csv)\n",
    "\n",
    "# Input data files are available in the \"../input/\" directory.\n",
    "# For example, running this (by clicking run or pressing Shift+Enter) will list the files in the input directory\n",
    "\n",
    "import os\n",
    "print(os.listdir(\"../input\"))\n",
    "df1 = pd.read_json('../input/News_Category_Dataset_v2.json', lines=True)\n",
    "df1.head()\n",
    "# Any results you write to the current directory are saved as output."
   ]
  },
  {
   "cell_type": "code",
   "execution_count": 2,
   "metadata": {
    "_uuid": "42a1ba99d4bc02cc88a447aae9b9999531dd873d"
   },
   "outputs": [
    {
     "data": {
      "image/png": "[encoded data removed]",
      "text/plain": [
       "<Figure size 432x288 with 1 Axes>"
      ]
     },
     "metadata": {},
     "output_type": "display_data"
    }
   ],
   "source": [
    "category = df1[\"category\"].value_counts()\n",
    "category_len = np.arange(len(category.index))\n",
    "#print(category.values)\n",
    "\n",
    "import matplotlib.pyplot as plt\n",
    "plt.bar(category_len, category.values, alpha=0.8)\n",
    "plt.xticks(category_len,category.index, rotation = 90)\n",
    "plt.subplots_adjust(bottom=0.4, top=0.99)\n",
    "\n",
    "\n",
    "\n",
    "plt.show()"
   ]
  },
  {
   "cell_type": "code",
   "execution_count": 3,
   "metadata": {
    "_uuid": "59d2f751dfaf55f423d1b5f96f8cbece9b5c1eba"
   },
   "outputs": [
    {
     "name": "stdout",
     "output_type": "stream",
     "text": [
      "POLITICS          32739\n",
      "WELLNESS          17827\n",
      "ENTERTAINMENT     16058\n",
      "TRAVEL             9887\n",
      "STYLE & BEAUTY     9649\n",
      "Name: category, dtype: int64\n"
     ]
    }
   ],
   "source": [
    "category = df1[\"category\"].value_counts()\n",
    "top_5_cat = category[:5]\n",
    "print(top_5_cat)"
   ]
  },
  {
   "cell_type": "code",
   "execution_count": 5,
   "metadata": {
    "_uuid": "0b276f16dc2d69a25ba3e371111903eda76aa49b"
   },
   "outputs": [],
   "source": [
    "x=list(top_5_cat.index)"
   ]
  },
  {
   "cell_type": "code",
   "execution_count": 7,
   "metadata": {
    "_uuid": "58b7788a9d3dc30b398312afc6fddfdfac0139a7"
   },
   "outputs": [
    {
     "data": {
      "text/html": [
       "<div>\n",
       "<style scoped>\n",
       "    .dataframe tbody tr th:only-of-type {\n",
       "        vertical-align: middle;\n",
       "    }\n",
       "\n",
       "    .dataframe tbody tr th {\n",
       "        vertical-align: top;\n",
       "    }\n",
       "\n",
       "    .dataframe thead th {\n",
       "        text-align: right;\n",
       "    }\n",
       "</style>\n",
       "<table border=\"1\" class=\"dataframe\">\n",
       "  <thead>\n",
       "    <tr style=\"text-align: right;\">\n",
       "      <th></th>\n",
       "      <th>authors</th>\n",
       "      <th>category</th>\n",
       "      <th>date</th>\n",
       "      <th>headline</th>\n",
       "      <th>link</th>\n",
       "      <th>short_description</th>\n",
       "    </tr>\n",
       "  </thead>\n",
       "  <tbody>\n",
       "    <tr>\n",
       "      <th>13</th>\n",
       "      <td>Elise Foley and Roque Planas</td>\n",
       "      <td>POLITICS</td>\n",
       "      <td>2018-05-26</td>\n",
       "      <td>Trump's Crackdown On Immigrant Parents Puts Mo...</td>\n",
       "      <td>https://www.huffingtonpost.com/entry/immigrant...</td>\n",
       "      <td>Last month a Health and Human Services officia...</td>\n",
       "    </tr>\n",
       "    <tr>\n",
       "      <th>14</th>\n",
       "      <td>Michael Isikoff, Yahoo News</td>\n",
       "      <td>POLITICS</td>\n",
       "      <td>2018-05-26</td>\n",
       "      <td>'Trump's Son Should Be Concerned': FBI Obtaine...</td>\n",
       "      <td>https://www.huffingtonpost.com/entry/fbi-wiret...</td>\n",
       "      <td>The wiretaps feature conversations between Ale...</td>\n",
       "    </tr>\n",
       "    <tr>\n",
       "      <th>15</th>\n",
       "      <td>Mary Papenfuss</td>\n",
       "      <td>POLITICS</td>\n",
       "      <td>2018-05-26</td>\n",
       "      <td>Edward Snowden: There's No One Trump Loves Mor...</td>\n",
       "      <td>https://www.huffingtonpost.com/entry/edward-sn...</td>\n",
       "      <td>But don't count on Robert Mueller to nail him,...</td>\n",
       "    </tr>\n",
       "    <tr>\n",
       "      <th>16</th>\n",
       "      <td>Mary Papenfuss</td>\n",
       "      <td>POLITICS</td>\n",
       "      <td>2018-05-26</td>\n",
       "      <td>Booyah: Obama Photographer Hilariously Trolls ...</td>\n",
       "      <td>https://www.huffingtonpost.com/entry/obama-pho...</td>\n",
       "      <td>Just a peeping minute.</td>\n",
       "    </tr>\n",
       "    <tr>\n",
       "      <th>17</th>\n",
       "      <td>Laura Bassett</td>\n",
       "      <td>POLITICS</td>\n",
       "      <td>2018-05-26</td>\n",
       "      <td>Ireland Votes To Repeal Abortion Amendment In ...</td>\n",
       "      <td>https://www.huffingtonpost.com/entry/results-f...</td>\n",
       "      <td>Irish women will no longer have to travel to t...</td>\n",
       "    </tr>\n",
       "  </tbody>\n",
       "</table>\n",
       "</div>"
      ],
      "text/plain": [
       "                         authors                        ...                                                          short_description\n",
       "13  Elise Foley and Roque Planas                        ...                          Last month a Health and Human Services officia...\n",
       "14   Michael Isikoff, Yahoo News                        ...                          The wiretaps feature conversations between Ale...\n",
       "15                Mary Papenfuss                        ...                          But don't count on Robert Mueller to nail him,...\n",
       "16                Mary Papenfuss                        ...                                                     Just a peeping minute.\n",
       "17                 Laura Bassett                        ...                          Irish women will no longer have to travel to t...\n",
       "\n",
       "[5 rows x 6 columns]"
      ]
     },
     "execution_count": 7,
     "metadata": {},
     "output_type": "execute_result"
    }
   ],
   "source": [
    "#df2 contain only top 5 category\n",
    "df2=pd.DataFrame()\n",
    "for i in x:\n",
    "    df2 = df2.append(df1[df1[\"category\"]==i])\n",
    "df2[\"category\"].unique()\n",
    "df2.head()"
   ]
  },
  {
   "cell_type": "code",
   "execution_count": 8,
   "metadata": {
    "_cell_guid": "79c7e3d0-c299-4dcb-8224-4455121ee9b0",
    "_uuid": "d629ff2d2480ee46fbb7e2d37f6b5fab8052498a"
   },
   "outputs": [
    {
     "name": "stdout",
     "output_type": "stream",
     "text": [
      "Total number of authors in top five categories 10580\n",
      "Name of authors in top 5 categories ['Elise Foley and Roque Planas' 'Michael Isikoff, Yahoo News'\n",
      " 'Mary Papenfuss' ...\n",
      " 'Bill Augustin, Contributor\\nWriter, pop-culture geek, gad-about-town'\n",
      " 'Holli Rogers, Contributor\\nContributor'\n",
      " 'Emanuel Ungaro, Contributor\\nCouturier']\n"
     ]
    }
   ],
   "source": [
    "print(\"Total number of authors in top five categories\",df2['authors'].nunique())\n",
    "print(\"Name of authors in top 5 categories\",df2['authors'].unique())"
   ]
  },
  {
   "cell_type": "code",
   "execution_count": null,
   "metadata": {
    "_uuid": "ac446904f6ba1e501aa5090cc8c64982454603c3"
   },
   "outputs": [],
   "source": [
    "#string_bigrams = bigrams(df2[\"headline\"][df2[\"category\"]=='POLITICS'])\n",
    "#print(string_bigrams)"
   ]
  },
  {
   "cell_type": "code",
   "execution_count": 9,
   "metadata": {
    "_uuid": "af5ea02b161906054768ef19f50ea78564b211eb"
   },
   "outputs": [
    {
     "data": {
      "text/plain": [
       "date\n",
       "2012-07-31    1553\n",
       "2012-08-31    1543\n",
       "2012-03-31    1512\n",
       "2012-05-31    1509\n",
       "2012-02-29    1494\n",
       "2013-12-31    1492\n",
       "2014-01-31    1472\n",
       "2012-04-30    1469\n",
       "2012-06-30    1459\n",
       "2013-10-31    1435\n",
       "2017-01-31    1423\n",
       "2012-10-31    1402\n",
       "2014-03-31    1399\n",
       "2013-11-30    1394\n",
       "2012-09-30    1390\n",
       "2013-09-30    1374\n",
       "2016-10-31    1364\n",
       "2013-04-30    1336\n",
       "2016-11-30    1329\n",
       "2012-11-30    1316\n",
       "2013-03-31    1316\n",
       "2012-12-31    1315\n",
       "2013-01-31    1314\n",
       "2014-02-28    1312\n",
       "2013-07-31    1288\n",
       "2017-03-31    1268\n",
       "2017-02-28    1265\n",
       "2016-02-29    1258\n",
       "2013-08-31    1253\n",
       "2013-05-31    1253\n",
       "              ... \n",
       "2017-11-30    1091\n",
       "2018-03-31    1073\n",
       "2015-09-30    1055\n",
       "2016-08-31    1041\n",
       "2016-06-30    1039\n",
       "2014-04-30    1032\n",
       "2017-12-31    1030\n",
       "2015-07-31    1020\n",
       "2015-08-31    1016\n",
       "2017-09-30    1002\n",
       "2015-12-31     997\n",
       "2015-11-30     995\n",
       "2018-04-30     944\n",
       "2018-02-28     870\n",
       "2018-05-31     837\n",
       "2014-11-30     779\n",
       "2014-07-31     757\n",
       "2015-06-30     743\n",
       "2014-08-31     733\n",
       "2015-03-31     721\n",
       "2014-06-30     714\n",
       "2015-05-31     712\n",
       "2015-01-31     705\n",
       "2015-04-30     705\n",
       "2014-10-31     689\n",
       "2014-12-31     661\n",
       "2014-09-30     660\n",
       "2015-02-28     630\n",
       "2014-05-31     591\n",
       "2012-01-31     160\n",
       "Name: date, Length: 77, dtype: int64"
      ]
     },
     "execution_count": 9,
     "metadata": {},
     "output_type": "execute_result"
    }
   ],
   "source": [
    "#Number of articles published by month\n",
    "df2['date'] = pd.to_datetime(df2['date'], errors='coerce')\n",
    "df2.groupby(pd.Grouper(key='date', freq='M'))['date'].count().sort_values(ascending=False)"
   ]
  },
  {
   "cell_type": "code",
   "execution_count": 10,
   "metadata": {
    "_uuid": "56441ab1f41dac63da6a1e8bcf95458ef63b123e"
   },
   "outputs": [
    {
     "data": {
      "text/plain": [
       "1118.9610389610389"
      ]
     },
     "execution_count": 10,
     "metadata": {},
     "output_type": "execute_result"
    }
   ],
   "source": [
    "#Average articles per month\n",
    "df2.groupby(pd.Grouper(key='date', freq='M'))['date'].count().mean()"
   ]
  },
  {
   "cell_type": "code",
   "execution_count": 11,
   "metadata": {
    "_uuid": "fb053065de5aea159131f4ba57515133c5044a56"
   },
   "outputs": [
    {
     "data": {
      "text/plain": [
       "date\n",
       "2012-01-31    STYLE & BEAUTY\n",
       "2012-02-29    STYLE & BEAUTY\n",
       "2012-03-31    STYLE & BEAUTY\n",
       "2012-04-30          WELLNESS\n",
       "2012-05-31          WELLNESS\n",
       "2012-06-30          WELLNESS\n",
       "2012-07-31          WELLNESS\n",
       "2012-08-31          WELLNESS\n",
       "2012-09-30          WELLNESS\n",
       "2012-10-31          WELLNESS\n",
       "2012-11-30          WELLNESS\n",
       "2012-12-31          WELLNESS\n",
       "2013-01-31          WELLNESS\n",
       "2013-02-28          WELLNESS\n",
       "2013-03-31          WELLNESS\n",
       "2013-04-30          WELLNESS\n",
       "2013-05-31          WELLNESS\n",
       "2013-06-30          WELLNESS\n",
       "2013-07-31          WELLNESS\n",
       "2013-08-31          WELLNESS\n",
       "2013-09-30          WELLNESS\n",
       "2013-10-31          WELLNESS\n",
       "2013-11-30          WELLNESS\n",
       "2013-12-31          WELLNESS\n",
       "2014-01-31          WELLNESS\n",
       "2014-02-28          WELLNESS\n",
       "2014-03-31          WELLNESS\n",
       "2014-04-30          WELLNESS\n",
       "2014-05-31          POLITICS\n",
       "2014-06-30          POLITICS\n",
       "                   ...      \n",
       "2015-12-31          POLITICS\n",
       "2016-01-31          POLITICS\n",
       "2016-02-29          POLITICS\n",
       "2016-03-31          POLITICS\n",
       "2016-04-30          POLITICS\n",
       "2016-05-31          POLITICS\n",
       "2016-06-30          POLITICS\n",
       "2016-07-31          POLITICS\n",
       "2016-08-31          POLITICS\n",
       "2016-09-30          POLITICS\n",
       "2016-10-31          POLITICS\n",
       "2016-11-30          POLITICS\n",
       "2016-12-31          POLITICS\n",
       "2017-01-31          POLITICS\n",
       "2017-02-28          POLITICS\n",
       "2017-03-31          POLITICS\n",
       "2017-04-30          POLITICS\n",
       "2017-05-31          POLITICS\n",
       "2017-06-30          POLITICS\n",
       "2017-07-31          POLITICS\n",
       "2017-08-31          POLITICS\n",
       "2017-09-30          POLITICS\n",
       "2017-10-31          POLITICS\n",
       "2017-11-30          POLITICS\n",
       "2017-12-31          POLITICS\n",
       "2018-01-31          POLITICS\n",
       "2018-02-28          POLITICS\n",
       "2018-03-31          POLITICS\n",
       "2018-04-30          POLITICS\n",
       "2018-05-31          POLITICS\n",
       "Freq: M, Name: category, Length: 77, dtype: object"
      ]
     },
     "execution_count": 11,
     "metadata": {},
     "output_type": "execute_result"
    }
   ],
   "source": [
    "#Popular category per month\n",
    "df2.groupby(pd.Grouper(key='date', freq='M'))['category'].agg(lambda x:x.value_counts().index[0])"
   ]
  },
  {
   "cell_type": "code",
   "execution_count": null,
   "metadata": {
    "_uuid": "daee125bc9eb952db1945c1478e9207d6e09d233"
   },
   "outputs": [],
   "source": []
  },
  {
   "cell_type": "code",
   "execution_count": null,
   "metadata": {
    "_uuid": "3b46bc6a7a345792e742632366f115afe508b7c5"
   },
   "outputs": [],
   "source": []
  },
  {
   "cell_type": "code",
   "execution_count": null,
   "metadata": {
    "_uuid": "5c91fa6491455642b2b1fee738b1040330e654bc"
   },
   "outputs": [],
   "source": []
  }
 ],
 "metadata": {
  "kernelspec": {
   "display_name": "Python 3",
   "language": "python",
   "name": "python3"
  },
  "language_info": {
   "codemirror_mode": {
    "name": "ipython",
    "version": 3
   },
   "file_extension": ".py",
   "mimetype": "text/x-python",
   "name": "python",
   "nbconvert_exporter": "python",
   "pygments_lexer": "ipython3",
   "version": "3.7.2"
  }
 },
 "nbformat": 4,
 "nbformat_minor": 1
}
